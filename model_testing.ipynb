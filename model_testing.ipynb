{
 "cells": [
  {
   "cell_type": "code",
   "execution_count": null,
   "metadata": {},
   "outputs": [],
   "source": [
    "import numpy as np\n",
    "import torch\n",
    "import torch.nn as nn\n",
    "import torch.nn.functional as F\n",
    "\n",
    "import torchvision\n",
    "from torchvision.transforms import v2"
   ]
  },
  {
   "cell_type": "code",
   "execution_count": null,
   "metadata": {},
   "outputs": [],
   "source": [
    "transform = v2.Compose(\n",
    "    [v2.Resize((256, 256),antialias=True), # Scaling the images to 256x256 pixels\n",
    "     v2.ToImageTensor(), # Converting the images to 5D tensors\n",
    "     v2.ConvertImageDtype(), \n",
    "     v2.Normalize((0.5, 0.5, 0.5), (0.5, 0.5, 0.5))]) # Normalizing the tensors to have a mean of 0.5 and standard deviation of 0.5\n",
    "\n",
    "dataset = torchvision.datasets.ImageFolder(root='data', transform=transform)\n",
    "\n",
    "np.random.seed(10)  # Assign a seed to get the complementary testing set of the set used in training the model\n",
    "n_samples = len(dataset)\n",
    "n_train = int(0.8 * n_samples)\n",
    "n_test = n_samples - n_train\n",
    "\n",
    "classes = ('Common Wheat','Aegilops cylindrica L.', 'Avena fatua L.', 'Bromus sterilis L.', \n",
    "            'Bromus tectorum L.', 'Echinochloa crus-galli (L.) Beauv')\n"
   ]
  },
  {
   "cell_type": "code",
   "execution_count": null,
   "metadata": {},
   "outputs": [],
   "source": [
    "# Separate the data into test and training sets and return them\n",
    "def randomSetSeparation():\n",
    "    batch_size = 20\n",
    "    \n",
    "    trainset, testset = torch.utils.data.random_split(dataset, [n_train, n_test])\n",
    "\n",
    "    trainloader = torch.utils.data.DataLoader(trainset, batch_size=batch_size, shuffle=True)\n",
    "    testloader = torch.utils.data.DataLoader(testset, batch_size=batch_size, shuffle=False)\n",
    "\n",
    "    return trainloader, testloader"
   ]
  },
  {
   "cell_type": "code",
   "execution_count": null,
   "metadata": {},
   "outputs": [],
   "source": [
    "# Setting the class for specific CNN architecture\n",
    "# Two convolutional layers each followed by a max pooling layer and three fully connected layers\n",
    "class Net(nn.Module):\n",
    "    \n",
    "    # The constructor for the network \n",
    "    def __init__(self):\n",
    "        super().__init__()\n",
    "        self.conv1 = nn.Conv2d(3, 6, 3)\n",
    "        self.pool = nn.MaxPool2d(2, 2)\n",
    "        self.conv2 = nn.Conv2d(6, 16, 3)\n",
    "        self.fc1 = nn.Linear(16 * 62 * 62, 80)\n",
    "        self.fc2 = nn.Linear(80, 42)\n",
    "        self.fc3 = nn.Linear(42, 6)\n",
    "\n",
    "    # Forward propagation\n",
    "    def forward(self, x):\n",
    "        x = self.pool(F.relu(self.conv1(x))) \n",
    "        x = self.pool(F.relu(self.conv2(x)))\n",
    "        x = torch.flatten(x, 1) \n",
    "        x = F.relu(self.fc1(x))\n",
    "        x = F.relu(self.fc2(x))\n",
    "        x = self.fc3(x) \n",
    "        return x\n",
    "\n",
    "net = Net() # Intitialization of the network"
   ]
  },
  {
   "cell_type": "code",
   "execution_count": null,
   "metadata": {},
   "outputs": [],
   "source": [
    "PATH = 'weed_classifier.pth' # Path to do the model\n",
    "print(f'Model: {PATH}')\n",
    "net.load_state_dict(torch.load(PATH)) # Load the model\n",
    "\n",
    "print(f'Model success rates in percentages to the nearest integer for each trial:')\n",
    "\n",
    "for i in range(30):\n",
    "\n",
    "    trainloader, testloader = randomSetSeparation()\n",
    "\n",
    "    correct = 0.0\n",
    "    total = 0.0\n",
    "\n",
    "    # Forward propagat,ion\n",
    "    with torch.no_grad():\n",
    "        for data in testloader:\n",
    "            # Getting the inputs\n",
    "            images, labels = data\n",
    "            \n",
    "            # Calculate the outputs by feeding images to the network\n",
    "            outputs = net(images) \n",
    "            \n",
    "            # Choosing the the class with the highest value as prediction\n",
    "            _, predicted = torch.max(outputs.data, 1)\n",
    "\n",
    "            # Calculating the number of test images and correct predictions\n",
    "            total += labels.size(0)\n",
    "            correct += (predicted == labels).sum().item()\n",
    "\n",
    "    print(f'{100.0 * correct // total}') # Printing the performance\n"
   ]
  },
  {
   "cell_type": "code",
   "execution_count": null,
   "metadata": {},
   "outputs": [],
   "source": [
    "# prepare to count predictions for each class\n",
    "correct_pred = {classname: 0 for classname in classes}\n",
    "total_pred = {classname: 0 for classname in classes}\n",
    "\n",
    "# again no gradients needed\n",
    "with torch.no_grad():\n",
    "    for data in testloader:\n",
    "        images, labels = data\n",
    "        outputs = net(images)\n",
    "        _, predictions = torch.max(outputs, 1)\n",
    "        # collect the correct predictions for each class\n",
    "        for label, prediction in zip(labels, predictions):\n",
    "            if label == prediction:\n",
    "                correct_pred[classes[label]] += 1\n",
    "            total_pred[classes[label]] += 1\n",
    "\n",
    "\n",
    "# print accuracy for each class\n",
    "for classname, correct_count in correct_pred.items():\n",
    "    accuracy = 100 * float(correct_count) / total_pred[classname]\n",
    "    print(f'Accuracy for class: {classname:5s} is {accuracy:.1f} %')"
   ]
  }
 ],
 "metadata": {
  "kernelspec": {
   "display_name": "Python 3",
   "language": "python",
   "name": "python3"
  },
  "language_info": {
   "codemirror_mode": {
    "name": "ipython",
    "version": 3
   },
   "file_extension": ".py",
   "mimetype": "text/x-python",
   "name": "python",
   "nbconvert_exporter": "python",
   "pygments_lexer": "ipython3",
   "version": "3.11.2"
  }
 },
 "nbformat": 4,
 "nbformat_minor": 2
}
