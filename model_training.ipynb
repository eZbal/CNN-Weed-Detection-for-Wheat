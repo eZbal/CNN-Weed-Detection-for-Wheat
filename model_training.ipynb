{
 "cells": [
  {
   "cell_type": "code",
   "execution_count": null,
   "metadata": {},
   "outputs": [],
   "source": [
    "import numpy as np\n",
    "\n",
    "import torch\n",
    "import torch.nn as nn\n",
    "import torch.nn.functional as F\n",
    "import torch.optim as optim\n",
    "\n",
    "import torchvision\n",
    "from torchvision.transforms import v2"
   ]
  },
  {
   "cell_type": "code",
   "execution_count": null,
   "metadata": {},
   "outputs": [],
   "source": [
    "transform = v2.Compose(\n",
    "    [v2.Resize((256, 256),antialias=True), # Scaling the images to 256x256 pixels\n",
    "     v2.ToTensor(), # Converting the images to 5D tensors\n",
    "     v2.Normalize((0.5, 0.5, 0.5), (0.5, 0.5, 0.5))]) # Normalizing the tensors to have a mean of 0.5 and standard deviation of 0.5\n",
    "\n",
    "dataset = torchvision.datasets.ImageFolder(root='data', transform=transform)\n",
    "\n",
    "batch_size = 20\n",
    "\n",
    "np.random.seed(10)  # Assigned a seed for reproducibility of the model\n",
    "\n",
    "# Spliting the dataset into two\n",
    "# 80% of the dataset is the training set\n",
    "# 2* % of the dataset is the testing set\n",
    "num_samples = len(dataset)\n",
    "num_train = int(0.8 * num_samples)\n",
    "num_test = int(0.2 * num_samples)\n",
    "\n",
    "trainset, testset = torch.utils.data.random_split(dataset, [num_train, num_test])\n",
    "\n",
    "trainloader = torch.utils.data.DataLoader(trainset, batch_size=batch_size, shuffle=True)\n",
    "testloader = torch.utils.data.DataLoader(testset, batch_size=batch_size, shuffle=False)\n",
    "\n",
    "# 6 classes for each species investigated\n",
    "classes = ('Common Wheat','Aegilops cylindrica L.', 'Avena fatua L.', 'Bromus sterilis L.', \n",
    "           'Bromus tectorum L.', 'Echinochloa crus-galli (L.) Beauv')\n",
    "\n",
    "print(f'Training and testing sets are separated')"
   ]
  },
  {
   "cell_type": "code",
   "execution_count": null,
   "metadata": {},
   "outputs": [],
   "source": [
    "# Setting the class for specific CNN architecture\n",
    "# Two convolutional layers each followed by a max pooling layer and three fully connected layers\n",
    "class Net(nn.Module):\n",
    "    \n",
    "    # The constructor for the network \n",
    "    def __init__(self):\n",
    "        super().__init__()\n",
    "        self.conv1 = nn.Conv2d(3, 6, 3)\n",
    "        self.pool = nn.MaxPool2d(2, 2)\n",
    "        self.conv2 = nn.Conv2d(6, 16, 3)\n",
    "        self.fc1 = nn.Linear(16 * 62 * 62, 80)\n",
    "        self.fc2 = nn.Linear(80, 42)\n",
    "        self.fc3 = nn.Linear(42, 6)\n",
    "\n",
    "    # Forward propagation\n",
    "    def forward(self, x):\n",
    "        x = self.pool(F.relu(self.conv1(x))) \n",
    "        x = self.pool(F.relu(self.conv2(x)))\n",
    "        x = torch.flatten(x, 1) \n",
    "        x = F.relu(self.fc1(x))\n",
    "        x = F.relu(self.fc2(x))\n",
    "        x = self.fc3(x) \n",
    "        return x\n",
    "\n",
    "net = Net() # Intitialization of the network"
   ]
  },
  {
   "cell_type": "code",
   "execution_count": null,
   "metadata": {},
   "outputs": [],
   "source": [
    "#Loss function, backpropagation function, and  other layer-independent hyperparameters\n",
    "\n",
    "lossFunc = nn.CrossEntropyLoss()\n",
    "optimizer = optim.SGD(net.parameters(), lr=0.01, momentum=0.9)\n",
    "epochs = 12\n",
    "\n",
    "PATH = 'weed_classifier.pth' # Path to do the model"
   ]
  },
  {
   "cell_type": "code",
   "execution_count": null,
   "metadata": {},
   "outputs": [],
   "source": [
    "# Looping over the dataset\n",
    "for epoch in range(epochs): \n",
    "\n",
    "    current_loss = 0.0\n",
    "    for i, data in enumerate(trainloader, 0):\n",
    "        # Getting the inputs\n",
    "        inputs, labels = data\n",
    "\n",
    "        # Zeroing the parameter gradients\n",
    "        optimizer.zero_grad()\n",
    "\n",
    "        # Forward and backward propagation, then optimizing\n",
    "        outputs = net(inputs)\n",
    "        loss = lossFunc(outputs, labels)\n",
    "        loss.backward()\n",
    "        optimizer.step()\n",
    "\n",
    "        # Printing the loss statistics\n",
    "        current_loss += loss.item()\n",
    "        if i % 20 == 19: # printing every 20th batch\n",
    "            print(f'[{epoch + 1}, {i + 1:3d}] loss: {current_loss / 2000:.4f}')\n",
    "            current_loss = 0.0\n",
    "\n",
    "print('Finished Training')\n",
    "\n",
    "torch.save(net.state_dict(), PATH)"
   ]
  }
 ],
 "metadata": {
  "kernelspec": {
   "display_name": "Python 3",
   "language": "python",
   "name": "python3"
  },
  "language_info": {
   "codemirror_mode": {
    "name": "ipython",
    "version": 3
   },
   "file_extension": ".py",
   "mimetype": "text/x-python",
   "name": "python",
   "nbconvert_exporter": "python",
   "pygments_lexer": "ipython3",
   "version": "3.11.2"
  }
 },
 "nbformat": 4,
 "nbformat_minor": 2
}
